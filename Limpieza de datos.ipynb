{
 "cells": [
  {
   "cell_type": "code",
   "execution_count": 4,
   "id": "128df6c7-c420-48a2-9e06-75e96d0c2d54",
   "metadata": {},
   "outputs": [],
   "source": [
    "import pandas as pd \n",
    "df=pd.read_excel(r\"C:\\Users\\polla\\Desktop\\solucion nadro\\AUTOMATIZACION\\EJEMPLO_PARA _OPTIMIZAR.xlsx\")"
   ]
  },
  {
   "cell_type": "code",
   "execution_count": 6,
   "id": "aaba9b15-7409-4e78-9afe-f170b93f489a",
   "metadata": {},
   "outputs": [
    {
     "data": {
      "text/plain": [
       "Index(['SKU', 'WEEK', 'CADENA', 'FCIA', 'YEAR', 'FECHA-FIN', 'GRUPO',\n",
       "       'DIVISION', 'FAMILIA', 'CATEGORIA', 'FABRICANTE', 'COMPRADOR',\n",
       "       'CLASIFICACION_PRODUCTOS', 'TIPO_DE_PEDIDO', 'CADENA1', 'IDSUCURSAL',\n",
       "       'ID_FR', 'NOMB_SUCURSAL', 'TIPOPEDIDO', 'DESCRIPCION_CORTA',\n",
       "       'PROVEDOR ', 'CANT_PEDIDOS', 'PCIO_COSTO', 'COMPRATOTAL',\n",
       "       'CANTIDAD_FALTANTE', 'IMPORTE_FALTANTE', 'FACTURA', 'PZ_FACTURA',\n",
       "       'IMPORTE_FACTURA', 'FECHA_FACTURA', 'ID_ORDEN_COMPRA', 'MONHT',\n",
       "       'SUC_NADRO', 'FARMACIA', 'AGENCIA', 'CODIGOINTERNO', 'PF_NADRO',\n",
       "       'CODIGO_LABORATORIO', 'LABORATORIO', 'STATUS', 'ULTIMA_FECHA_CAT_NADRO',\n",
       "       'DESCRIPCION', 'STATUS_EAN_MDM', 'FECHA_DE_ALTA', 'FORMA_DE_SURTIR',\n",
       "       'COSTO_RFP', 'PCIO VTA C/IVA', 'STATUS_SUC', 'TIPO_DE_SUC',\n",
       "       'EXISTENCIA_NADRO_B', 'ID_SUC_NADRO', 'ABCD', 'CAPA_FALTANTE'],\n",
       "      dtype='object')"
      ]
     },
     "execution_count": 6,
     "metadata": {},
     "output_type": "execute_result"
    }
   ],
   "source": [
    "df.columns"
   ]
  },
  {
   "cell_type": "code",
   "execution_count": 7,
   "id": "c7328c32-6c87-4026-90ec-5222dc1060cf",
   "metadata": {},
   "outputs": [],
   "source": [
    "Datos_limpios=df\n",
    "\n",
    "\n",
    "Datos_limpios=df\n",
    "# Definir la función para mapear semanas a meses\n",
    "def week_to_month(week):\n",
    "    if 1 <= week <= 4:\n",
    "        return 'Enero'\n",
    "    elif 5 <= week <= 8:\n",
    "        return 'Febrero'\n",
    "    elif 9 <= week <= 13:\n",
    "        return 'Marzo'\n",
    "    elif 14 <= week <= 17:\n",
    "        return 'Abril'\n",
    "    elif 18 <= week <= 21:\n",
    "        return 'Mayo'\n",
    "    elif 22 <= week <= 26:\n",
    "        return 'Junio'\n",
    "    elif 27 <= week <= 30:\n",
    "        return 'Julio'\n",
    "    elif 31 <= week <= 35:\n",
    "        return 'Agosto'\n",
    "    elif 36 <= week <= 39:\n",
    "        return 'Septiembre'\n",
    "    elif 40 <= week <= 43:\n",
    "        return 'Octubre'\n",
    "    elif 44 <= week <= 48:\n",
    "        return 'Noviembre'\n",
    "    elif 49 <= week <= 52:\n",
    "        return 'Diciembre'\n",
    "    else:\n",
    "        return 'Unknown'\n",
    "\n",
    "# Aplicar la función para crear una nueva columna de meses\n",
    "Datos_limpios['Mes'] = Datos_limpios['WEEK'].apply(week_to_month)\n",
    "# Crear secciones del DataFrame por cada mes\n",
    "enero = Datos_limpios[Datos_limpios['Mes'] == 'Enero']\n",
    "febrero = Datos_limpios[Datos_limpios['Mes'] == 'Febrero']\n",
    "marzo = Datos_limpios[Datos_limpios['Mes'] == 'Marzo']\n",
    "abril = Datos_limpios[Datos_limpios['Mes'] == 'Abril']\n",
    "mayo = Datos_limpios[Datos_limpios['Mes'] == 'Mayo']\n",
    "junio = Datos_limpios[Datos_limpios['Mes'] == 'Junio']\n",
    "julio = Datos_limpios[Datos_limpios['Mes'] == 'Julio']\n",
    "agosto = Datos_limpios[Datos_limpios['Mes'] == 'Agosto']\n",
    "septiembre = Datos_limpios[Datos_limpios['Mes'] == 'Septiembre']\n",
    "octubre = Datos_limpios[Datos_limpios['Mes'] == 'Octubre']\n",
    "noviembre = Datos_limpios[Datos_limpios['Mes'] == 'Noviembre']\n",
    "diciembre = Datos_limpios[Datos_limpios['Mes'] == 'Diciembre']\n",
    "\n"
   ]
  },
  {
   "cell_type": "code",
   "execution_count": 9,
   "id": "4fa2980a-6d94-497a-bd6c-5edc5e9f3efa",
   "metadata": {},
   "outputs": [
    {
     "data": {
      "text/plain": [
       "Index(['SKU', 'WEEK', 'CADENA', 'FCIA', 'YEAR', 'FECHA-FIN', 'GRUPO',\n",
       "       'DIVISION', 'FAMILIA', 'CATEGORIA', 'FABRICANTE', 'COMPRADOR',\n",
       "       'CLASIFICACION_PRODUCTOS', 'TIPO_DE_PEDIDO', 'CADENA1', 'IDSUCURSAL',\n",
       "       'ID_FR', 'NOMB_SUCURSAL', 'TIPOPEDIDO', 'DESCRIPCION_CORTA',\n",
       "       'PROVEDOR ', 'CANT_PEDIDOS', 'PCIO_COSTO', 'COMPRATOTAL',\n",
       "       'CANTIDAD_FALTANTE', 'IMPORTE_FALTANTE', 'FACTURA', 'PZ_FACTURA',\n",
       "       'IMPORTE_FACTURA', 'FECHA_FACTURA', 'ID_ORDEN_COMPRA', 'MONHT',\n",
       "       'SUC_NADRO', 'FARMACIA', 'AGENCIA', 'CODIGOINTERNO', 'PF_NADRO',\n",
       "       'CODIGO_LABORATORIO', 'LABORATORIO', 'STATUS', 'ULTIMA_FECHA_CAT_NADRO',\n",
       "       'DESCRIPCION', 'STATUS_EAN_MDM', 'FECHA_DE_ALTA', 'FORMA_DE_SURTIR',\n",
       "       'COSTO_RFP', 'PCIO VTA C/IVA', 'STATUS_SUC', 'TIPO_DE_SUC',\n",
       "       'EXISTENCIA_NADRO_B', 'ID_SUC_NADRO', 'ABCD', 'CAPA_FALTANTE', 'Mes'],\n",
       "      dtype='object')"
      ]
     },
     "execution_count": 9,
     "metadata": {},
     "output_type": "execute_result"
    }
   ],
   "source": [
    "Datos_limpios.columns"
   ]
  },
  {
   "cell_type": "code",
   "execution_count": 10,
   "id": "55292f25-1a19-44ed-a475-1476c1e66f98",
   "metadata": {},
   "outputs": [
    {
     "name": "stdout",
     "output_type": "stream",
     "text": [
      "Datos exportados correctamente a C:\\Users\\polla\\Desktop\\solucion nadro\\AUTOMATIZACION\\Datos_limpios.csv\n"
     ]
    }
   ],
   "source": [
    "output_file_path = r\"C:\\Users\\polla\\Desktop\\solucion nadro\\AUTOMATIZACION\\Datos_limpios.csv\"\n",
    "\n",
    "# Exporta el DataFrame a un archivo CSV\n",
    "Datos_limpios.to_csv(output_file_path, index=False)\n",
    "\n",
    "print(f\"Datos exportados correctamente a {output_file_path}\")"
   ]
  },
  {
   "cell_type": "code",
   "execution_count": null,
   "id": "fa12b9df-375f-4823-928b-55dad1ca4a3a",
   "metadata": {},
   "outputs": [],
   "source": []
  },
  {
   "cell_type": "code",
   "execution_count": null,
   "id": "ee49e152-00ba-4c28-9c17-55fe1d40bf28",
   "metadata": {},
   "outputs": [],
   "source": []
  }
 ],
 "metadata": {
  "kernelspec": {
   "display_name": "python3.12.2",
   "language": "python",
   "name": "python3.12.2"
  },
  "language_info": {
   "codemirror_mode": {
    "name": "ipython",
    "version": 3
   },
   "file_extension": ".py",
   "mimetype": "text/x-python",
   "name": "python",
   "nbconvert_exporter": "python",
   "pygments_lexer": "ipython3",
   "version": "3.12.2"
  }
 },
 "nbformat": 4,
 "nbformat_minor": 5
}
